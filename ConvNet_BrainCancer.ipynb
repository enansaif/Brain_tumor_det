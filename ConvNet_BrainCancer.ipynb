{
 "cells": [
  {
   "cell_type": "code",
   "execution_count": 1,
   "metadata": {},
   "outputs": [],
   "source": [
    "import os\n",
    "import torch\n",
    "from torch import nn\n",
    "from tqdm.auto import tqdm\n",
    "from torchvision import datasets,transforms\n",
    "from torch.utils.data import DataLoader\n",
    "device=torch.device('cuda' if torch.cuda.is_available() else 'cpu')\n",
    "train_dir='F:\\BrainCancer_DataSet\\Train'\n",
    "test_dir='F:\\BrainCancer_DataSet\\Test'\n",
    "save_dir='F:/BrainCancer_DataSet'"
   ]
  },
  {
   "cell_type": "code",
   "execution_count": 2,
   "metadata": {},
   "outputs": [],
   "source": [
    "custom_transform=transforms.Compose([transforms.Resize((512,512),interpolation=3),transforms.ToTensor()])"
   ]
  },
  {
   "cell_type": "code",
   "execution_count": 3,
   "metadata": {},
   "outputs": [],
   "source": [
    "class CNNModel(nn.Module):\n",
    "    def __init__(self,in_ch,num_cl,hidden_ch=64):\n",
    "        super(CNNModel,self).__init__()\n",
    "        self.Model=nn.Sequential(\n",
    "        self.block(in_ch,hidden_ch,final=False),\n",
    "        self.block(hidden_ch,hidden_ch*2,final=False),\n",
    "        nn.MaxPool2d((2,2)),\n",
    "        self.block(hidden_ch*2,hidden_ch*4,final=False),\n",
    "        nn.MaxPool2d((2,2)),\n",
    "        self.block(hidden_ch*4,hidden_ch*8,final=False),\n",
    "        nn.MaxPool2d((2,2)),\n",
    "        self.block(hidden_ch*8,hidden_ch*8,final=False),\n",
    "        self.block(hidden_ch*8,num_cl,final=True)\n",
    "        )\n",
    "        \n",
    "    def block(self,in_ch,out_ch,final):\n",
    "        if not final:\n",
    "            return nn.Sequential(\n",
    "            nn.Conv2d(in_ch,out_ch,kernel_size=5,stride=1,padding=1),\n",
    "            nn.BatchNorm2d(out_ch),\n",
    "            nn.ReLU(),\n",
    "            )\n",
    "        else:\n",
    "            return nn.Sequential(\n",
    "            nn.Conv2d(in_ch,out_ch,kernel_size=60,stride=1,padding=0),\n",
    "            nn.Sigmoid()\n",
    "            )\n",
    "    def forward(self,x):\n",
    "        x=self.Model(x)\n",
    "        return x.reshape(x.shape[0],-1)"
   ]
  },
  {
   "cell_type": "code",
   "execution_count": 4,
   "metadata": {},
   "outputs": [
    {
     "name": "stdout",
     "output_type": "stream",
     "text": [
      "torch.Size([10, 4])\n"
     ]
    }
   ],
   "source": [
    "x=torch.randn(10,3,512,512)\n",
    "model=CNNModel(in_ch=3,num_cl=4)\n",
    "print(model(x).shape)"
   ]
  },
  {
   "cell_type": "code",
   "execution_count": 5,
   "metadata": {},
   "outputs": [
    {
     "name": "stdout",
     "output_type": "stream",
     "text": [
      "Dataset ImageFolder\n",
      "    Number of datapoints: 4456\n",
      "    Root location: F:\\BrainCancer_DataSet\\Train\n",
      "    StandardTransform\n",
      "Transform: Compose(\n",
      "               Resize(size=(512, 512), interpolation=PIL.Image.BICUBIC)\n",
      "               ToTensor()\n",
      "           )\n",
      "Dataset ImageFolder\n",
      "    Number of datapoints: 394\n",
      "    Root location: F:\\BrainCancer_DataSet\\Test\n",
      "    StandardTransform\n",
      "Transform: Compose(\n",
      "               Resize(size=(512, 512), interpolation=PIL.Image.BICUBIC)\n",
      "               ToTensor()\n",
      "           )\n"
     ]
    }
   ],
   "source": [
    "train_dataset=datasets.ImageFolder(train_dir,transform=custom_transform)\n",
    "train_data=DataLoader(train_dataset,batch_size=128,shuffle=True)\n",
    "test_dataset=datasets.ImageFolder(test_dir,transform=custom_transform)\n",
    "test_data=DataLoader(test_dataset,batch_size=64,shuffle=True)\n",
    "print(train_dataset)\n",
    "print(test_dataset)"
   ]
  },
  {
   "cell_type": "code",
   "execution_count": 6,
   "metadata": {},
   "outputs": [],
   "source": [
    "criterion=nn.CrossEntropyLoss()\n",
    "optimizer=torch.optim.Adam(model.parameters(),lr=.001)\n",
    "epoch=5\n",
    "def accuracy(data,model):\n",
    "    correct=0\n",
    "    total=0\n",
    "    model.eval()\n",
    "    with torch.no_grad():\n",
    "        for images,labels in tqdm(data):\n",
    "            images=images.to(device)\n",
    "            labels=labels.to(device)\n",
    "            preds=model(images)\n",
    "            values,index=preds.max(1)\n",
    "            correct+=(index==labels).sum()\n",
    "            total+=preds.size(0)\n",
    "            acc=correct/total\n",
    "        print(acc)"
   ]
  },
  {
   "cell_type": "code",
   "execution_count": null,
   "metadata": {},
   "outputs": [
    {
     "data": {
      "application/vnd.jupyter.widget-view+json": {
       "model_id": "3b8ab9d486a940faa1f836b7a9af63d1",
       "version_major": 2,
       "version_minor": 0
      },
      "text/plain": [
       "HBox(children=(FloatProgress(value=0.0, max=18.0), HTML(value='')))"
      ]
     },
     "metadata": {},
     "output_type": "display_data"
    }
   ],
   "source": [
    "for e in range(epoch):\n",
    "    for images,labels in tqdm(train_data):\n",
    "        images=images.to(device)\n",
    "        labels=labels.to(device)\n",
    "        preds=model(images)\n",
    "        loss=criterion(preds,labels)\n",
    "        optimizer.zero_grad()\n",
    "        loss.backward()\n",
    "        optimizer.step()\n",
    "torch.save(model.state_dict(),os.path.join(save_dir,'info.pth'))\n",
    "print('model saved')"
   ]
  },
  {
   "cell_type": "code",
   "execution_count": null,
   "metadata": {},
   "outputs": [
    {
     "data": {
      "application/vnd.jupyter.widget-view+json": {
       "model_id": "6fba6745ae644aeda8b505ab6b5018d8",
       "version_major": 2,
       "version_minor": 0
      },
      "text/plain": [
       "HBox(children=(FloatProgress(value=0.0, max=7.0), HTML(value='')))"
      ]
     },
     "metadata": {},
     "output_type": "display_data"
    }
   ],
   "source": [
    "accuracy(train_data,model)\n",
    "accuracy(test_data,model)"
   ]
  },
  {
   "cell_type": "code",
   "execution_count": null,
   "metadata": {},
   "outputs": [],
   "source": []
  }
 ],
 "metadata": {
  "kernelspec": {
   "display_name": "Python 3",
   "language": "python",
   "name": "python3"
  },
  "language_info": {
   "codemirror_mode": {
    "name": "ipython",
    "version": 3
   },
   "file_extension": ".py",
   "mimetype": "text/x-python",
   "name": "python",
   "nbconvert_exporter": "python",
   "pygments_lexer": "ipython3",
   "version": "3.8.3"
  }
 },
 "nbformat": 4,
 "nbformat_minor": 4
}
